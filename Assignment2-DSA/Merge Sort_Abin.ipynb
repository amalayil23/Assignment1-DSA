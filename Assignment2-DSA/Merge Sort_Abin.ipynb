{
 "cells": [
  {
   "cell_type": "code",
   "execution_count": 56,
   "id": "7edd5a55-5d40-4e94-b1b3-d09da48fa148",
   "metadata": {},
   "outputs": [
    {
     "name": "stdout",
     "output_type": "stream",
     "text": [
      "[38, 27, 43, 3, 9, 82, 10]    [28, 2, 90, 67, 98, 15, 71]\n",
      "[38, 27, 43]    [3, 9, 82, 10]\n",
      "[38]    [27, 43]\n",
      "[27]    [43]\n",
      "Merging [27]  +  [43]\n",
      "Merging [38]  +  [27, 43]\n",
      "[3, 9]    [82, 10]\n",
      "[3]    [9]\n",
      "Merging [3]  +  [9]\n",
      "[82]    [10]\n",
      "Merging [82]  +  [10]\n",
      "Merging [3, 9]  +  [10, 82]\n",
      "Merging [27, 38, 43]  +  [3, 9, 10, 82]\n",
      "[28, 2, 90]    [67, 98, 15, 71]\n",
      "[28]    [2, 90]\n",
      "[2]    [90]\n",
      "Merging [2]  +  [90]\n",
      "Merging [28]  +  [2, 90]\n",
      "[67, 98]    [15, 71]\n",
      "[67]    [98]\n",
      "Merging [67]  +  [98]\n",
      "[15]    [71]\n",
      "Merging [15]  +  [71]\n",
      "Merging [67, 98]  +  [15, 71]\n",
      "Merging [2, 28, 90]  +  [15, 67, 71, 98]\n",
      "Merging [3, 9, 10, 27, 38, 43, 82]  +  [2, 15, 28, 67, 71, 90, 98]\n",
      "\n",
      "Sorted array: [2, 3, 9, 10, 15, 27, 28, 38, 43, 67, 71, 82, 90, 98]\n"
     ]
    },
    {
     "name": "stdin",
     "output_type": "stream",
     "text": [
      "Press enter to exit...  \n"
     ]
    }
   ],
   "source": [
    "#Importing Library for sound effect\n",
    "from playsound import playsound\n",
    "\n",
    "#Defining function merge sort\n",
    "def MergeSort(array):\n",
    "    #Checking if the array is is greater than 1\n",
    "    if len(array) > 1:\n",
    "        mid = len(array)//2 #Finding the middle of the array. \n",
    "        #Splitting the elements into 2 arrays.\n",
    "        left = array[:mid] \n",
    "        right = array[mid:]\n",
    "        print(left,\"  \",right)\n",
    "\n",
    "\n",
    "        # Recursively sort both halves. \n",
    "        MergeSort(left)\n",
    "        MergeSort(right)\n",
    "        \n",
    "\n",
    "        # Merge the 2 halves. \n",
    "        print(\"Merging\", left ,\" + \", right )\n",
    "        i = j = k = 0\n",
    "        while i < len(left) and j < len(right):\n",
    "            #Comparing elements of left array to the right array. \n",
    "            if left[i] < right[j]:\n",
    "                array[k] = left[i]\n",
    "                i += 1\n",
    "            else:\n",
    "                try:\n",
    "                    playsound('C:\\\\Users\\\\malay\\\\swoosh.wav')\n",
    "                except:\n",
    "                    print(\"Couldn't play sound.. Swapping\")\n",
    "                    continue\n",
    "                array[k] = right[j]\n",
    "                j += 1\n",
    "            k += 1\n",
    "\n",
    "        # Merging remaining elements\n",
    "        while i < len(left):\n",
    "            array[k] = left[i]\n",
    "            i += 1\n",
    "            k += 1\n",
    "        while j < len(right):\n",
    "            array[k] = right[j]\n",
    "            j += 1\n",
    "            k += 1\n",
    "\n",
    "        \n",
    "\n",
    "\n",
    "test_array = [38, 27, 43, 3, 9, 82, 10,28,2,90,67,98,15,71]\n",
    "MergeSort(test_array)\n",
    "print(\"\\nSorted array:\", test_array)\n",
    "exit  =  input(\"Press enter to exit... \")\n",
    "\n"
   ]
  },
  {
   "cell_type": "code",
   "execution_count": 45,
   "id": "dffed222-330a-4291-930c-0a26e9e2d8a5",
   "metadata": {},
   "outputs": [
    {
     "name": "stdout",
     "output_type": "stream",
     "text": [
      "playing sound using  pydub\n"
     ]
    },
    {
     "name": "stderr",
     "output_type": "stream",
     "text": [
      "C:\\Users\\malay\\AppData\\Roaming\\Python\\Python311\\site-packages\\pydub\\utils.py:184: RuntimeWarning: Couldn't find ffplay or avplay - defaulting to ffplay, but may not work\n",
      "  warn(\"Couldn't find ffplay or avplay - defaulting to ffplay, but may not work\", RuntimeWarning)\n"
     ]
    },
    {
     "ename": "PermissionError",
     "evalue": "[Errno 13] Permission denied: 'C:\\\\Users\\\\malay\\\\AppData\\\\Local\\\\Temp\\\\tmp_jy25wus.wav'",
     "output_type": "error",
     "traceback": [
      "\u001b[1;31m---------------------------------------------------------------------------\u001b[0m",
      "\u001b[1;31mPermissionError\u001b[0m                           Traceback (most recent call last)",
      "Cell \u001b[1;32mIn[45], line 6\u001b[0m\n\u001b[0;32m      4\u001b[0m song \u001b[38;5;241m=\u001b[39m AudioSegment\u001b[38;5;241m.\u001b[39mfrom_wav(\u001b[38;5;124m\"\u001b[39m\u001b[38;5;124mswoosh.wav\u001b[39m\u001b[38;5;124m\"\u001b[39m)\n\u001b[0;32m      5\u001b[0m \u001b[38;5;28mprint\u001b[39m(\u001b[38;5;124m'\u001b[39m\u001b[38;5;124mplaying sound using  pydub\u001b[39m\u001b[38;5;124m'\u001b[39m)\n\u001b[1;32m----> 6\u001b[0m play(song)\n",
      "File \u001b[1;32m~\\AppData\\Roaming\\Python\\Python311\\site-packages\\pydub\\playback.py:71\u001b[0m, in \u001b[0;36mplay\u001b[1;34m(audio_segment)\u001b[0m\n\u001b[0;32m     68\u001b[0m \u001b[38;5;28;01melse\u001b[39;00m:\n\u001b[0;32m     69\u001b[0m     \u001b[38;5;28;01mreturn\u001b[39;00m\n\u001b[1;32m---> 71\u001b[0m _play_with_ffplay(audio_segment)\n",
      "File \u001b[1;32m~\\AppData\\Roaming\\Python\\Python311\\site-packages\\pydub\\playback.py:15\u001b[0m, in \u001b[0;36m_play_with_ffplay\u001b[1;34m(seg)\u001b[0m\n\u001b[0;32m     13\u001b[0m PLAYER \u001b[38;5;241m=\u001b[39m get_player_name()\n\u001b[0;32m     14\u001b[0m \u001b[38;5;28;01mwith\u001b[39;00m NamedTemporaryFile(\u001b[38;5;124m\"\u001b[39m\u001b[38;5;124mw+b\u001b[39m\u001b[38;5;124m\"\u001b[39m, suffix\u001b[38;5;241m=\u001b[39m\u001b[38;5;124m\"\u001b[39m\u001b[38;5;124m.wav\u001b[39m\u001b[38;5;124m\"\u001b[39m) \u001b[38;5;28;01mas\u001b[39;00m f:\n\u001b[1;32m---> 15\u001b[0m     seg\u001b[38;5;241m.\u001b[39mexport(f\u001b[38;5;241m.\u001b[39mname, \u001b[38;5;124m\"\u001b[39m\u001b[38;5;124mwav\u001b[39m\u001b[38;5;124m\"\u001b[39m)\n\u001b[0;32m     16\u001b[0m     subprocess\u001b[38;5;241m.\u001b[39mcall([PLAYER, \u001b[38;5;124m\"\u001b[39m\u001b[38;5;124m-nodisp\u001b[39m\u001b[38;5;124m\"\u001b[39m, \u001b[38;5;124m\"\u001b[39m\u001b[38;5;124m-autoexit\u001b[39m\u001b[38;5;124m\"\u001b[39m, \u001b[38;5;124m\"\u001b[39m\u001b[38;5;124m-hide_banner\u001b[39m\u001b[38;5;124m\"\u001b[39m, f\u001b[38;5;241m.\u001b[39mname])\n",
      "File \u001b[1;32m~\\AppData\\Roaming\\Python\\Python311\\site-packages\\pydub\\audio_segment.py:867\u001b[0m, in \u001b[0;36mAudioSegment.export\u001b[1;34m(self, out_f, format, codec, bitrate, parameters, tags, id3v2_version, cover)\u001b[0m\n\u001b[0;32m    861\u001b[0m \u001b[38;5;28;01mif\u001b[39;00m \u001b[38;5;28mformat\u001b[39m \u001b[38;5;241m==\u001b[39m \u001b[38;5;124m\"\u001b[39m\u001b[38;5;124mraw\u001b[39m\u001b[38;5;124m\"\u001b[39m \u001b[38;5;129;01mand\u001b[39;00m (codec \u001b[38;5;129;01mis\u001b[39;00m \u001b[38;5;129;01mnot\u001b[39;00m \u001b[38;5;28;01mNone\u001b[39;00m \u001b[38;5;129;01mor\u001b[39;00m parameters \u001b[38;5;129;01mis\u001b[39;00m \u001b[38;5;129;01mnot\u001b[39;00m \u001b[38;5;28;01mNone\u001b[39;00m):\n\u001b[0;32m    862\u001b[0m     \u001b[38;5;28;01mraise\u001b[39;00m \u001b[38;5;167;01mAttributeError\u001b[39;00m(\n\u001b[0;32m    863\u001b[0m             \u001b[38;5;124m'\u001b[39m\u001b[38;5;124mCan not invoke ffmpeg when export format is \u001b[39m\u001b[38;5;124m\"\u001b[39m\u001b[38;5;124mraw\u001b[39m\u001b[38;5;124m\"\u001b[39m\u001b[38;5;124m; \u001b[39m\u001b[38;5;124m'\u001b[39m\n\u001b[0;32m    864\u001b[0m             \u001b[38;5;124m'\u001b[39m\u001b[38;5;124mspecify an ffmpeg raw format like format=\u001b[39m\u001b[38;5;124m\"\u001b[39m\u001b[38;5;124ms16le\u001b[39m\u001b[38;5;124m\"\u001b[39m\u001b[38;5;124m instead \u001b[39m\u001b[38;5;124m'\u001b[39m\n\u001b[0;32m    865\u001b[0m             \u001b[38;5;124m'\u001b[39m\u001b[38;5;124mor call export(format=\u001b[39m\u001b[38;5;124m\"\u001b[39m\u001b[38;5;124mraw\u001b[39m\u001b[38;5;124m\"\u001b[39m\u001b[38;5;124m) with no codec or parameters\u001b[39m\u001b[38;5;124m'\u001b[39m)\n\u001b[1;32m--> 867\u001b[0m out_f, _ \u001b[38;5;241m=\u001b[39m _fd_or_path_or_tempfile(out_f, \u001b[38;5;124m'\u001b[39m\u001b[38;5;124mwb+\u001b[39m\u001b[38;5;124m'\u001b[39m)\n\u001b[0;32m    868\u001b[0m out_f\u001b[38;5;241m.\u001b[39mseek(\u001b[38;5;241m0\u001b[39m)\n\u001b[0;32m    870\u001b[0m \u001b[38;5;28;01mif\u001b[39;00m \u001b[38;5;28mformat\u001b[39m \u001b[38;5;241m==\u001b[39m \u001b[38;5;124m\"\u001b[39m\u001b[38;5;124mraw\u001b[39m\u001b[38;5;124m\"\u001b[39m:\n",
      "File \u001b[1;32m~\\AppData\\Roaming\\Python\\Python311\\site-packages\\pydub\\utils.py:60\u001b[0m, in \u001b[0;36m_fd_or_path_or_tempfile\u001b[1;34m(fd, mode, tempfile)\u001b[0m\n\u001b[0;32m     57\u001b[0m     close_fd \u001b[38;5;241m=\u001b[39m \u001b[38;5;28;01mTrue\u001b[39;00m\n\u001b[0;32m     59\u001b[0m \u001b[38;5;28;01mif\u001b[39;00m \u001b[38;5;28misinstance\u001b[39m(fd, basestring):\n\u001b[1;32m---> 60\u001b[0m     fd \u001b[38;5;241m=\u001b[39m \u001b[38;5;28mopen\u001b[39m(fd, mode\u001b[38;5;241m=\u001b[39mmode)\n\u001b[0;32m     61\u001b[0m     close_fd \u001b[38;5;241m=\u001b[39m \u001b[38;5;28;01mTrue\u001b[39;00m\n\u001b[0;32m     63\u001b[0m \u001b[38;5;28;01mtry\u001b[39;00m:\n",
      "\u001b[1;31mPermissionError\u001b[0m: [Errno 13] Permission denied: 'C:\\\\Users\\\\malay\\\\AppData\\\\Local\\\\Temp\\\\tmp_jy25wus.wav'"
     ]
    }
   ],
   "source": [
    "from pydub import AudioSegment\n",
    "from pydub.playback import play\n",
    "\n",
    "song = AudioSegment.from_wav(\"swoosh.wav\")\n",
    "print('playing sound using  pydub')\n",
    "play(song)"
   ]
  },
  {
   "cell_type": "code",
   "execution_count": null,
   "id": "bc7afee2-dd05-42d4-91b4-7c13b449f9ff",
   "metadata": {},
   "outputs": [],
   "source": []
  }
 ],
 "metadata": {
  "kernelspec": {
   "display_name": "Python 3 (ipykernel)",
   "language": "python",
   "name": "python3"
  },
  "language_info": {
   "codemirror_mode": {
    "name": "ipython",
    "version": 3
   },
   "file_extension": ".py",
   "mimetype": "text/x-python",
   "name": "python",
   "nbconvert_exporter": "python",
   "pygments_lexer": "ipython3",
   "version": "3.11.7"
  }
 },
 "nbformat": 4,
 "nbformat_minor": 5
}
