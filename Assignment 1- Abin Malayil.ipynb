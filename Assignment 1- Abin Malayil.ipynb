{
 "cells": [
  {
   "cell_type": "code",
   "execution_count": null,
   "id": "2ad8f1f7",
   "metadata": {},
   "outputs": [],
   "source": [
    "class Products():\n",
    "    def __init__(self):\n",
    "        self.data = open(\"product_data.txt\",\"r\")\n",
    "        self.products = []\n",
    "        for i in self.data.readlines():\n",
    "            self.products.append(i.strip().split(\", \"))\n",
    "        self.data.close()\n",
    "        \n",
    "    #Function to print all the products added in the array.\n",
    "    #Time complexity O(n)\n",
    "    def printProducts(self):\n",
    "        for k in self.products:\n",
    "            print(\"\\n\", k)\n",
    "    \n",
    "    def printHead(self, n = 5):\n",
    "        for i in range(n):\n",
    "            print(\"\\n\",self.products[i])\n",
    "    \n",
    "    #Function to remove a product from the array. Takes the product ID as argument. \n",
    "    #Time complexity O(n)\n",
    "    def removeProduct(self, ID):\n",
    "        for i in self.products:\n",
    "            if i[0] == ID:\n",
    "                self.products.remove(i)\n",
    "                return print(\"Item {} removed\".format(i))\n",
    "    \n",
    "    #Function to add a new product to the array. Function checks the new item provided as the\n",
    "    #arguments had exactly 4 attributes. \n",
    "    #Time complexity O(1)\n",
    "    def addProduct(self, itemDetail):\n",
    "        if len(itemDetail) != 4:\n",
    "            print(\"Please provide all product details\")\n",
    "        else:\n",
    "            self.products.append(itemDetail)\n",
    "        print(\"Product added: {}.\".format(self.products[len(self.products)-1]))\n",
    "            \n",
    "    #Function to update product detail.Functions needs ID to be passed as argument with a array of \n",
    "    #new attributes for the item\n",
    "    #Time complexity O(n)\n",
    "    def updateProduct(self, ID , new):\n",
    "        if len(new)!= 4:\n",
    "            print(\"Please provide all product details\")\n",
    "        else:            \n",
    "            for i in range(0,len(self.products)):\n",
    "                if self.products[i][0] == ID:\n",
    "                    self.products[i] = new\n",
    "                    return print(\"Product {} updated!\".format(self.products[i][0]))\n",
    "            print(\"Provided product ID doesn't exist\")\n",
    "    \n",
    "    #Time complexity O(n)\n",
    "    def searchProduct(self, item):\n",
    "        for i in self.products:\n",
    "            if str(item) in i[:-2]:\n",
    "                return print(\"Product found {}\".format(i))\n",
    "        return print(\"Product not found. Please use a valid name or ID for searching.\")\n",
    "\n",
    "    \n",
    "    #Bubble sort algorithm, Time complexity O(n^2)\n",
    "    def sortBubble(self):\n",
    "        n= len(self.products)\n",
    "        for i in range(0,n-1):\n",
    "            for j in range(0,n-i-1):\n",
    "                if (float(self.products[j][2])) > (float(self.products[j+1][2])):\n",
    "                    temp = self.products[j]\n",
    "                    self.products[j] = self.products[j+1]\n",
    "                    self.products[j+1] = temp\n",
    "        return self.products\n",
    "                        \n",
    "    def sortBubbleDes(self):\n",
    "        n= len(self.products)\n",
    "        for i in range(0,n-1):\n",
    "            for j in range(0,n-i-1):\n",
    "                if (float(self.products[j][2])) < (float(self.products[j+1][2])):\n",
    "                    temp = self.products[j+1]\n",
    "                    self.products[j+1] = self.products[j]\n",
    "                    self.products[j] = temp\n",
    "        return self.products\n",
    "                \n",
    "product = Products()\n",
    "\n",
    "product.printHead()\n",
    "\n"
   ]
  },
  {
   "cell_type": "code",
   "execution_count": null,
   "id": "117d2de9",
   "metadata": {},
   "outputs": [],
   "source": [
    "#inserting a new product\n",
    "product.addProduct([\"18086\",\"Laptop XCFG\", \"1200\",'Electronics'])"
   ]
  },
  {
   "cell_type": "code",
   "execution_count": null,
   "id": "86e3700e",
   "metadata": {},
   "outputs": [],
   "source": [
    "#Updating the product\n",
    "product.updateProduct('18086',[\"18086\",\"Laptop ABC\", \"1000\",'Electronics'])"
   ]
  },
  {
   "cell_type": "code",
   "execution_count": null,
   "id": "c0c46080",
   "metadata": {},
   "outputs": [],
   "source": [
    "#Removing product\n",
    "product.removeProduct('18086')"
   ]
  },
  {
   "cell_type": "code",
   "execution_count": null,
   "id": "b0188996",
   "metadata": {},
   "outputs": [],
   "source": [
    "#Searching product that was removed on previous step. Making sure it is removed.\n",
    "product.searchProduct('LaptopABC')"
   ]
  },
  {
   "cell_type": "code",
   "execution_count": null,
   "id": "2bb74998",
   "metadata": {},
   "outputs": [],
   "source": [
    "#Search using product name\n",
    "product.searchProduct('Camera SBBHC')"
   ]
  },
  {
   "cell_type": "code",
   "execution_count": null,
   "id": "18a2413a",
   "metadata": {},
   "outputs": [],
   "source": [
    "#Search using ID\n",
    "product.searchProduct(16041)"
   ]
  },
  {
   "cell_type": "code",
   "execution_count": null,
   "id": "1d6d6ca6",
   "metadata": {},
   "outputs": [],
   "source": [
    "# Here i am adding some additional products to the array to make the time analysis more visible. \n",
    "import random\n",
    "n = 1773\n",
    "for i in range(5000):\n",
    "    product.addProduct([n,\"B\",random.randint(100,1000),\"C\"])\n",
    "    n+=1"
   ]
  },
  {
   "cell_type": "code",
   "execution_count": null,
   "id": "35419fef",
   "metadata": {},
   "outputs": [],
   "source": [
    "import time\n",
    "start = time.process_time()\n",
    "product.sortBubble()\n",
    "end = time.process_time()\n",
    "timetaken = end-start\n",
    "product.printHead()\n",
    "\n",
    "print(\"\\nTime taken to sort the orginal array is {} seconds.\".format(timetaken))\n",
    "print(\"\\nThis can be considered average case\")"
   ]
  },
  {
   "cell_type": "code",
   "execution_count": null,
   "id": "f8ef4616",
   "metadata": {},
   "outputs": [],
   "source": [
    "product.sortBubbleDes() #Array is sorted in reverse order\n",
    "print(\"Array reversed:\")\n",
    "product.printHead()\n",
    "#Now the array is reverse sorted. \n",
    "start = time.process_time()\n",
    "product.sortBubble()\n",
    "end = time.process_time()\n",
    "timetaken = end-start\n",
    "print(\"\\nArray now:\")\n",
    "product.printHead()\n",
    "\n",
    "print(\"\\n \\n It took {} seconds for the algorithm to sort an reverse sorted array. This can be considered the worst case scenario\".format(timetaken))"
   ]
  },
  {
   "cell_type": "code",
   "execution_count": null,
   "id": "c22614ae",
   "metadata": {},
   "outputs": [],
   "source": [
    "start = time.process_time()\n",
    "product.sortBubble()\n",
    "end = time.process_time()\n",
    "timetaken = end-start\n",
    "product.printHead()\n",
    "\n",
    "\n",
    "print(\"\\n\\nIt took {} seconds, and this is the best case scenario\".format(timetaken))\n"
   ]
  },
  {
   "cell_type": "code",
   "execution_count": 1,
   "id": "c9e8db1f",
   "metadata": {},
   "outputs": [
    {
     "name": "stdout",
     "output_type": "stream",
     "text": [
      "Press any key to exit..\n"
     ]
    }
   ],
   "source": [
    "x = input(\"Press any key to exit..\")"
   ]
  }
 ],
 "metadata": {
  "kernelspec": {
   "display_name": "Python 3 (ipykernel)",
   "language": "python",
   "name": "python3"
  },
  "language_info": {
   "codemirror_mode": {
    "name": "ipython",
    "version": 3
   },
   "file_extension": ".py",
   "mimetype": "text/x-python",
   "name": "python",
   "nbconvert_exporter": "python",
   "pygments_lexer": "ipython3",
   "version": "3.11.5"
  }
 },
 "nbformat": 4,
 "nbformat_minor": 5
}
